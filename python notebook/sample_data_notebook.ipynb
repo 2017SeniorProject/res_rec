{
 "cells": [
  {
   "cell_type": "markdown",
   "metadata": {},
   "source": [
    "# sample dataset"
   ]
  },
  {
   "cell_type": "markdown",
   "metadata": {},
   "source": [
    "## create restaurant node"
   ]
  },
  {
   "cell_type": "raw",
   "metadata": {},
   "source": [
    "//create restaurant node\n",
    "create (n1: Restaurant {res_id:1, name:\"shishigege\"})\n",
    "create (n2: Restaurant {res_id:2, name:\"818\"})\n",
    "create (n3: Restaurant {res_id:3, name:\"schoolcafeteria\"})\n",
    "create (n4: Restaurant {res_id:4, name:\"1st floor cafe\"})\n",
    "create (n5: Restaurant {res_id:5, name:\"school convenience store\"})\n",
    "create (n6: Restaurant {res_id:6, name:\"youmianzhu\"})\n",
    "create (n7: Restaurant {res_id: 7, name:\"macdonal\"})\n",
    "create (n8: Restaurant {res_id: 8, name:\"mosburger\"})\n",
    "create (n9: Restaurant{res_id: 9,name:\"bawan\"})\n",
    "create (n10: Restaurant{res_id:10, name:\"pearlmilktea\"})"
   ]
  },
  {
   "cell_type": "markdown",
   "metadata": {},
   "source": [
    "## create area node"
   ]
  },
  {
   "cell_type": "raw",
   "metadata": {},
   "source": [
    "create (n: Area {name:\"Lanyang\"})\n",
    "create (n: Area {name:\"Jiaoxi\"})"
   ]
  },
  {
   "cell_type": "markdown",
   "metadata": {},
   "source": [
    "## create IN_AREA relationship"
   ]
  },
  {
   "cell_type": "raw",
   "metadata": {},
   "source": [
    "match (r:Restaurant{res_id:1})\n",
    "match (a:Area{name:\"Lanyang\"})\n",
    "create (r)-[:IN_AREA]->(a)\n",
    "return (r),(a)"
   ]
  },
  {
   "cell_type": "markdown",
   "metadata": {},
   "source": [
    "## load csv reviews ( timestamp(2000:2017) and reviews rating(1:3) were made random)"
   ]
  },
  {
   "cell_type": "raw",
   "metadata": {},
   "source": [
    "LOAD CSV WITH HEADERS FROM \"file:///reviews.csv\" AS csvLine\n",
    "MATCH (Res:Restaurant { res_id: csvLine.res_id })\n",
    "MERGE (rev:Review { review_id: toInteger(csvLine.review_id), timestamp: toInteger(csvLine.timestamp), rating:toInteger(csvLine.rating)})\n",
    "CREATE (res)<-[:RATED_BY {rate:toInteger(csvLine.rating)}]-(rev)"
   ]
  },
  {
   "cell_type": "markdown",
   "metadata": {},
   "source": [
    "---"
   ]
  },
  {
   "cell_type": "markdown",
   "metadata": {},
   "source": [
    "# Ranking restaurant by the review in a specific area"
   ]
  },
  {
   "cell_type": "markdown",
   "metadata": {},
   "source": [
    "## review of macdonald order desc (lastest to oldest)"
   ]
  },
  {
   "cell_type": "raw",
   "metadata": {},
   "source": [
    "match (res:Restaurant{res_id:7})-[:RATED_BY]-(revi:Review)\n",
    "return revi.review_id,revi.timestamp, review.rating order by revi.timestamp desc"
   ]
  },
  {
   "cell_type": "markdown",
   "metadata": {},
   "source": [
    "## find the latest review"
   ]
  },
  {
   "cell_type": "raw",
   "metadata": {},
   "source": [
    "//find the latest review\n",
    "match (res:Restaurant{res_id:7})-[:RATED_BY]-(revi:Review)\n",
    "with (revi)\n",
    "order by revi.timestamp desc LIMIT 1\n",
    "return revi.review_id, revi.timestamp,revi.rating"
   ]
  },
  {
   "cell_type": "markdown",
   "metadata": {},
   "source": [
    "## mark the latest review // merge and with to create unique// this only for one restaurant"
   ]
  },
  {
   "cell_type": "raw",
   "metadata": {},
   "source": [
    "match (res:Restaurant{res_id:7})-[:RATED_BY]-(revi:Review)\n",
    "with (revi),(res)\n",
    "order by revi.timestamp desc LIMIT 1\n",
    "merge (res)-[:LASTEST_POST]->(revi)"
   ]
  },
  {
   "cell_type": "markdown",
   "metadata": {},
   "source": [
    "## find a way to link all the post to the latest post"
   ]
  },
  {
   "cell_type": "raw",
   "metadata": {},
   "source": [
    "match (res:Restaurant{res_id:7})-[:RATED_BY]-(review:Review)\n",
    "with (review),(res)\n",
    "order by review.timestamp desc\n",
    "with collect(review) as reviews\n",
    "unwind range(0, size(reviews)-2) as indx\n",
    "with reviews[indx] as review1, reviews[indx+1] as review2\n",
    "merge (review1)-[:PREVIOUS_POST]->(review2)"
   ]
  },
  {
   "cell_type": "code",
   "execution_count": null,
   "metadata": {
    "collapsed": true
   },
   "outputs": [],
   "source": [
    "match (res:Restaurant)-[:RATED_BY]-(review:Review)\n",
    "with collect(res) as restaurants, (review)\n",
    "foreach(a in range(0,size(restaurants))\n",
    "    order by review.timestamp desc\n",
    "    with collect(review) as reviews\n",
    "    unwind range(0, size(reviews)-2) as indx\n",
    "    with reviews[indx] as review1, reviews[indx+1] as review2\n",
    "    merge (review1)-[:PREVIOUS_POST]->(review2)"
   ]
  },
  {
   "cell_type": "markdown",
   "metadata": {},
   "source": [
    "---"
   ]
  },
  {
   "cell_type": "markdown",
   "metadata": {},
   "source": [
    "# find the trending restaurant"
   ]
  },
  {
   "cell_type": "raw",
   "metadata": {},
   "source": [
    "//lots of review recently // define recently\n",
    "//find the restaurant in area Lanyang that is have the highest no review from 2013 to 2017"
   ]
  },
  {
   "cell_type": "raw",
   "metadata": {
    "collapsed": true
   },
   "source": [
    "//group all the reviews in Lanyang by restaurants\n",
    "match (res:Restaurant)-[:IN_AREA]->(area:Area{name:\"Lanyang\"})\n",
    "match (res)<-[:RATED_BY]-(review:Review)\n",
    "with collect(res) as restaurants,(review)\n",
    "UNWIND RANGE(0,SIZE(restaurants) - 1) as idx \n",
    "RETURN restaurants[idx], collect(review) as reviews"
   ]
  },
  {
   "cell_type": "raw",
   "metadata": {},
   "source": [
    "//group the reviews from 2013 to 2017 in Lanyang by restaurants\n",
    "match (res:Restaurant)-[:IN_AREA]->(area:Area{name:\"Lanyang\"})\n",
    "match (res)<-[:RATED_BY]-(review:Review) where review.timestamp>2013 and review.timestamp<2017\n",
    "with collect(res) as restaurants,(review)\n",
    "UNWIND RANGE(0,SIZE(restaurants) - 1) as idx \n",
    "return restaurants[idx], collect(review) as reviews"
   ]
  },
  {
   "cell_type": "raw",
   "metadata": {},
   "source": [
    "//find trending restaurant in area Lanyang (during the period of 2013-1017) that have highest number of reviews during 2013 to 2017\n",
    "//1st: match restaurants and reviews\n",
    "match (res:Restaurant)-[:IN_AREA]->(area:Area{name:\"Lanyang\"}),\n",
    "\t(res)<-[:RATED_BY]-(review:Review) where review.timestamp>2013 and review.timestamp<2017 \n",
    "//group the restaurant and review    \n",
    "with collect(res) as restaurants,(review)\n",
    "//for each restaurant, using unwind to do that\n",
    "UNWIND RANGE(0,SIZE(restaurants) - 1) as idx\n",
    "//return restaurant, collection of reviews , review_count, order by review_count\n",
    "return restaurants[idx], collect(review),count(review) as review_count order by review_count desc"
   ]
  },
  {
   "cell_type": "markdown",
   "metadata": {
    "collapsed": true
   },
   "source": [
    "---"
   ]
  },
  {
   "cell_type": "markdown",
   "metadata": {},
   "source": [
    "# Ranking restaurant by their real rating"
   ]
  },
  {
   "cell_type": "raw",
   "metadata": {},
   "source": [
    "//2014-2017: rating rated 3\n",
    "//2008-2014: rating rated 2\n",
    "//2000-2008: rating rated 1"
   ]
  },
  {
   "cell_type": "raw",
   "metadata": {},
   "source": [
    "//set the weight\n",
    "match (a:Restaurant)\n",
    "match (a)<-[rel:RATED_BY]-(b:Review) where b.timestamp<=2008\n",
    "set b.weight=1"
   ]
  },
  {
   "cell_type": "raw",
   "metadata": {},
   "source": [
    "//actual overal rating for res_id=1\n",
    "match (a:Restaurant) where a.res_id =1\n",
    "match (a)<-[rel:RATED_BY]-(b:Review) \n",
    "return sum(b.rating*b.weight)/count(b) as actual_rating"
   ]
  },
  {
   "cell_type": "raw",
   "metadata": {},
   "source": [
    "//assign the actual_rating to the restaurant for quick ranking\n",
    "match(a:Restaurant{res_id:10})\n",
    "match (a)<-[rel:RATED_BY]-(b:Review) \n",
    "with (a),sum(b.rating*b.weight)/count(b) as actual_rating\n",
    "set a.actual_rating=actual_rating"
   ]
  },
  {
   "cell_type": "markdown",
   "metadata": {},
   "source": [
    "---"
   ]
  },
  {
   "cell_type": "markdown",
   "metadata": {},
   "source": [
    "# Algorithm part"
   ]
  },
  {
   "cell_type": "raw",
   "metadata": {},
   "source": [
    "// if the author wrote a review and liked by other author, we call them related\n",
    "match(u:Author)-[:WROTE]->(r:Review)<-[:LIKED]-(u2:Author)\n",
    "with u,u2,count(*) as count\n",
    "call apoc.create.vRelationship(u,'RELATE',{count:count},u2) yield rel\n",
    "return u,u2,rel"
   ]
  },
  {
   "cell_type": "code",
   "execution_count": null,
   "metadata": {
    "collapsed": true
   },
   "outputs": [],
   "source": []
  }
 ],
 "metadata": {
  "kernelspec": {
   "display_name": "Python 3",
   "language": "python",
   "name": "python3"
  },
  "language_info": {
   "codemirror_mode": {
    "name": "ipython",
    "version": 3
   },
   "file_extension": ".py",
   "mimetype": "text/x-python",
   "name": "python",
   "nbconvert_exporter": "python",
   "pygments_lexer": "ipython3",
   "version": "3.6.3"
  }
 },
 "nbformat": 4,
 "nbformat_minor": 2
}
