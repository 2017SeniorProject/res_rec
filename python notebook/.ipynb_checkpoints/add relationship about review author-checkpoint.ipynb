{
 "cells": [
  {
   "cell_type": "markdown",
   "metadata": {},
   "source": [
    "# add author-wrote->review, and author-liked->review"
   ]
  },
  {
   "cell_type": "markdown",
   "metadata": {},
   "source": [
    "## add data file in sample_data::::::: reviews_like.csv, reviewer.csv, categories.csv"
   ]
  },
  {
   "cell_type": "raw",
   "metadata": {},
   "source": [
    "//create category and link them together\n",
    "USING PERIODIC COMMIT 50\n",
    "LOAD CSV WITH HEADERS FROM \"file:///categories.csv\" AS csvLine\n",
    "MATCH (res:Restaurant { res_id: toInteger(csvLine.res_id)}),\n",
    "  (category:Category { name: csvLine.category})\n",
    "MERGE (res)-[:IN_CATEGORY]->(category)"
   ]
  },
  {
   "cell_type": "raw",
   "metadata": {},
   "source": [
    "LOAD CSV WITH HEADERS FROM \"file:///reviews.csv\" AS csvLine\n",
    "MATCH (author:Author { author_id: toInteger(csvLine.reviewer_id)}),\n",
    "  (review:Review { review_id: toInteger(csvLine.review_id)})\n",
    "MERGE (author)-[:WROTE]->(review)"
   ]
  },
  {
   "cell_type": "code",
   "execution_count": null,
   "metadata": {
    "collapsed": true
   },
   "outputs": [],
   "source": []
  }
 ],
 "metadata": {
  "kernelspec": {
   "display_name": "Python 3",
   "language": "python",
   "name": "python3"
  },
  "language_info": {
   "codemirror_mode": {
    "name": "ipython",
    "version": 3
   },
   "file_extension": ".py",
   "mimetype": "text/x-python",
   "name": "python",
   "nbconvert_exporter": "python",
   "pygments_lexer": "ipython3",
   "version": "3.6.3"
  }
 },
 "nbformat": 4,
 "nbformat_minor": 2
}
