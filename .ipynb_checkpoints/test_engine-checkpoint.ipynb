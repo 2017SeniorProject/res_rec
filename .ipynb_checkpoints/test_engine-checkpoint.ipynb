{
 "cells": [
  {
   "cell_type": "markdown",
   "metadata": {},
   "source": [
    "# Restaurant near you"
   ]
  },
  {
   "cell_type": "code",
   "execution_count": null,
   "metadata": {
    "collapsed": true
   },
   "outputs": [],
   "source": [
    "import py2neo\n",
    "from py2neo import Graph, Node, Relationship\n",
    "import requests\n",
    "import json\n",
    "\n",
    "#open Graph database\n",
    "graph=Graph(\"localhost\")  #depend on your authorization choice\n",
    "\n",
    "\n",
    "#send url to get your current location #can use better method to get the division automatically as well\n",
    "send_url = 'http://freegeoip.net/json'\n",
    "r = requests.get(send_url)\n",
    "j = json.loads(r.text)\n",
    "lati = j['latitude']\n",
    "longi = j['longitude']\n",
    "\n",
    "#query for the match your location with the restaurant\n",
    "query='''\n",
    "WITH point({latitude:{lat},longitude:{lon}}) AS mapcenter\n",
    "   MATCH (a:Restaurant)-[:IN_DIVISION]->(b:Division{e_name:{division}}) \n",
    "   WITH a, distance (point({latitude: a.latitude, longitude: a.longitude}), mapcenter) AS distance \n",
    "     //near you but we can just do the limit so that only shows\n",
    "   RETURN a.shopId, distance\n",
    "   ORDER BY distance LIMIT 1000\n",
    "'''\n",
    "lat=24.8229533748\n",
    "lon=121.771853579\n",
    "division=\"Jiaoxi Township\"\n",
    "graph.run(query,lat=lati,lon=longi,division=division).data()"
   ]
  },
  {
   "cell_type": "markdown",
   "metadata": {},
   "source": [
    "# restaurant by month, most review with SDRate greater than 3"
   ]
  },
  {
   "cell_type": "code",
   "execution_count": 2,
   "metadata": {},
   "outputs": [
    {
     "data": {
      "text/plain": [
       "[{'count': 4, 'n.shopId': 86266},\n",
       " {'count': 2, 'n.shopId': 1017400},\n",
       " {'count': 1, 'n.shopId': 38366},\n",
       " {'count': 1, 'n.shopId': 35898},\n",
       " {'count': 1, 'n.shopId': 37661},\n",
       " {'count': 1, 'n.shopId': 956260},\n",
       " {'count': 1, 'n.shopId': 54127}]"
      ]
     },
     "execution_count": 2,
     "metadata": {},
     "output_type": "execute_result"
    }
   ],
   "source": [
    "import py2neo\n",
    "from py2neo import Graph, Node, Relationship\n",
    "\n",
    "#open Graph database\n",
    "graph=Graph(\"localhost\")  #depend on your authorization choice\n",
    "\n",
    "\n",
    "#recommendation for restaurant by month: ranking the the restaurant by their review rating: most high reviews of the month\n",
    "query='''\n",
    "match (d:Division{e_name:{division}})-[:IN_MONTH]->(m:Month{month:{month}})\n",
    "match\t(m)<-[:WRITTEN_IN]-(r:Review)\n",
    "match   (r)-[:ABOUT]->(n:Restaurant) where r.SDRate>3\n",
    "return n.shopId, count(r) as count order by count desc\n",
    "'''\n",
    "month=1\n",
    "division=\"Jiaoxi Township\"\n",
    "graph.run(query,month=month,division=division).data()"
   ]
  },
  {
   "cell_type": "markdown",
   "metadata": {},
   "source": [
    "# Restaurant by month, most review with SDRate> average"
   ]
  },
  {
   "cell_type": "code",
   "execution_count": 17,
   "metadata": {},
   "outputs": [
    {
     "data": {
      "text/plain": [
       "[{'count': 4, 'n.shopId': 86266},\n",
       " {'count': 2, 'n.shopId': 1017400},\n",
       " {'count': 1, 'n.shopId': 38366},\n",
       " {'count': 1, 'n.shopId': 35898},\n",
       " {'count': 1, 'n.shopId': 37661},\n",
       " {'count': 1, 'n.shopId': 956260},\n",
       " {'count': 1, 'n.shopId': 54127}]"
      ]
     },
     "execution_count": 17,
     "metadata": {},
     "output_type": "execute_result"
    }
   ],
   "source": [
    "import py2neo\n",
    "from py2neo import Graph, Node, Relationship\n",
    "\n",
    "#open Graph database\n",
    "graph=Graph(\"localhost\")  #depend on your authorization choice\n",
    "\n",
    "#input month, division, average\n",
    "month=1\n",
    "division=\"Jiaoxi Township\"\n",
    "\n",
    "query='''\n",
    "match (d:Division{e_name:\"Jiaoxi Township\"})-[:IN_MONTH]->(m:Month{month:5}),\n",
    "\t(m)<-[:WRITTEN_IN]-(r:Review),\n",
    "    (r)-[:ABOUT]->(n:Restaurant)\n",
    "return avg(r.SDRate) as avg\n",
    "'''\n",
    "avg_data=graph.run(query,month=month,division=division).data()\n",
    "\n",
    "average=avg_data[0]['avg']\n",
    "\n",
    "#recommendation for restaurant by month: ranking the the restaurant by their review rating: most review above average of month\n",
    "query='''\n",
    "match (d:Division{e_name:{division}})-[:IN_MONTH]->(m:Month{month:{month}})\n",
    "match\t(m)<-[:WRITTEN_IN]-(r:Review)\n",
    "match   (r)-[:ABOUT]->(n:Restaurant) where r.SDRate>{average}\n",
    "return n.shopId, count(r) as count order by count desc\n",
    "'''\n",
    "graph.run(query,month=month,division=division,average=average).data()"
   ]
  },
  {
   "cell_type": "markdown",
   "metadata": {
    "collapsed": true
   },
   "source": [
    "---"
   ]
  },
  {
   "cell_type": "markdown",
   "metadata": {},
   "source": [
    "# Search for restaurant by division (area), categories, price(will add later)"
   ]
  },
  {
   "cell_type": "code",
   "execution_count": 6,
   "metadata": {},
   "outputs": [
    {
     "data": {
      "text/plain": [
       "[{'n': (bc347af:Restaurant {SDAddress:\"宜蘭縣礁溪鄉礁溪路四段128號\",SDDeliciousRate:16,SDEnvRate:11,SDRate:45,SDServiceRate:13,latitude:24.821180508050002,longitude:121.76974300833007,shopId:42367,shopName:\"柯氏蔥油餅-原礁溪蔥油餅\"})}]"
      ]
     },
     "execution_count": 6,
     "metadata": {},
     "output_type": "execute_result"
    }
   ],
   "source": [
    "import py2neo\n",
    "from py2neo import Graph, Node, Relationship\n",
    "\n",
    "#open Graph database\n",
    "graph=Graph(\"localhost\")  #depend on your authorization choice\n",
    "\n",
    "#input month, division from users(should be saved during the user session to do the recommendation)\n",
    "category=\"其他小吃\"\n",
    "division=\"Jiaoxi Township\"\n",
    "\n",
    "query='''\n",
    "match(n:Restaurant)-[:IN_DIVISION]-(d:Division)\n",
    "match (n)-[:IN_CATEGORY]->(c:Category)\n",
    "where c.SDCategory={category} and\n",
    "\td.e_name={division}\n",
    "return (n) order by n.SDRate\n",
    "'''\n",
    "data=graph.run(query,category=category,division=division).data()\n",
    "data"
   ]
  },
  {
   "cell_type": "markdown",
   "metadata": {},
   "source": [
    "# Recommendation similiar restaurant learn from your search (1)"
   ]
  },
  {
   "cell_type": "code",
   "execution_count": 7,
   "metadata": {},
   "outputs": [
    {
     "data": {
      "text/plain": [
       "[{'reco': (afa869b:Restaurant {SDAddress:\"宜蘭縣羅東鎮公園路(羅東夜市1080號攤位)\",SDDeliciousRate:15,SDEnvRate:10,SDRate:45,SDServiceRate:12,latitude:24.6766870789721,longitude:121.7690920946273,shopId:44889,shopName:\"烤肉風味\"})},\n",
       " {'reco': (a4a853e:Restaurant {SDAddress:\"宜蘭縣宜蘭市中山路三段154號\",SDDeliciousRate:15,SDEnvRate:9,SDRate:45,SDServiceRate:11,latitude:24.75924401556,longitude:121.7531860104,shopId:37846,shopName:\"十六崁瓜仔雞麵\"})},\n",
       " {'reco': (b3570e9:Restaurant {SDAddress:\"宜蘭縣羅東鎮民權路185-1號\",SDDeliciousRate:15,SDEnvRate:10,SDRate:45,SDServiceRate:12,latitude:24.67641300705,longitude:121.76601300497,shopId:37965,shopName:\"羅東肉羹番\"})},\n",
       " {'reco': (e2b1187:Restaurant {SDAddress:\"宜蘭縣羅東鎮民生路130號\",SDDeliciousRate:16,SDEnvRate:10,SDRate:45,SDServiceRate:12,latitude:24.67775710079,longitude:121.76695401163994,shopId:1007950,shopName:\"義豐蔥油派\"})},\n",
       " {'reco': (f0a13a4:Restaurant {SDAddress:\"宜蘭縣羅東鎮民權路(羅東夜市第1094號攤位)\",SDDeliciousRate:15,SDEnvRate:8,SDRate:45,SDServiceRate:10,latitude:24.67592501592,longitude:121.76860401571,shopId:35637,shopName:\"阿灶伯羊肉\"})},\n",
       " {'reco': (ffc8bcd:Restaurant {SDAddress:\"宜蘭縣羅東鎮北成路一段122號\",SDDeliciousRate:15,SDEnvRate:10,SDRate:45,SDServiceRate:12,latitude:24.675651266523605,longitude:121.7592532331443,shopId:31205,shopName:\"香廚米粉羹\"})},\n",
       " {'reco': (b28d711:Restaurant {SDAddress:\"宜蘭縣羅東鎮公園路95號\",SDDeliciousRate:17,SDEnvRate:14,SDRate:45,SDServiceRate:15,latitude:24.675983015889997,longitude:121.76909901612,shopId:88653,shopName:\"魏姐包心粉圓-公園店\"})},\n",
       " {'reco': (d47b589:Restaurant {SDAddress:\"宜蘭縣羅東鎮中正北路109號\",SDDeliciousRate:13,SDEnvRate:8,SDRate:45,SDServiceRate:9,latitude:24.68247700856,longitude:121.77127401067001,shopId:33031,shopName:\"林場肉羹\"})}]"
      ]
     },
     "execution_count": 7,
     "metadata": {},
     "output_type": "execute_result"
    }
   ],
   "source": [
    "import py2neo\n",
    "from py2neo import Graph, Node, Relationship\n",
    "\n",
    "#open Graph database\n",
    "graph=Graph(\"localhost\")  #depend on your authorization choice\n",
    "\n",
    "#input month, division from users(should be saved during the user session to do the recommendation)\n",
    "category=\"其他小吃\"\n",
    "division=\"Jiaoxi Township\"\n",
    "\n",
    "query='''\n",
    "match(n:Restaurant)-[:IN_DIVISION]-(d:Division),\n",
    "(n)-[:IN_CATEGORY]->(c:Category)\n",
    "where c.SDCategory={category} and\n",
    "\td.e_name={division}\n",
    "with collect(n) as exclude,collect(c) as rec_cat\n",
    "match (reco)-[:IN_CATEGORY]->(c1:Category)\n",
    "where NOT reco IN exclude and\n",
    "\t c1 IN rec_cat\n",
    "return reco\n",
    "'''\n",
    "data=graph.run(query,category=category,division=division).data()\n",
    "data"
   ]
  },
  {
   "cell_type": "code",
   "execution_count": null,
   "metadata": {
    "collapsed": true
   },
   "outputs": [],
   "source": []
  }
 ],
 "metadata": {
  "kernelspec": {
   "display_name": "Python 3",
   "language": "python",
   "name": "python3"
  },
  "language_info": {
   "codemirror_mode": {
    "name": "ipython",
    "version": 3
   },
   "file_extension": ".py",
   "mimetype": "text/x-python",
   "name": "python",
   "nbconvert_exporter": "python",
   "pygments_lexer": "ipython3",
   "version": "3.6.3"
  }
 },
 "nbformat": 4,
 "nbformat_minor": 2
}
