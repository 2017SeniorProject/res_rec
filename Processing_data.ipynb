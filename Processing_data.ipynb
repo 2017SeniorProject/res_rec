{
 "cells": [
  {
   "cell_type": "markdown",
   "metadata": {},
   "source": [
    "# Process ilan_shop_review.csv"
   ]
  },
  {
   "cell_type": "markdown",
   "metadata": {},
   "source": [
    "## Convert timestamp for review into day, year, month"
   ]
  },
  {
   "cell_type": "code",
   "execution_count": 2,
   "metadata": {
    "collapsed": true
   },
   "outputs": [],
   "source": [
    "import pandas as pd\n",
    "import numpy as np"
   ]
  },
  {
   "cell_type": "code",
   "execution_count": 4,
   "metadata": {
    "collapsed": true
   },
   "outputs": [],
   "source": [
    "rdf=pd.read_csv(\"sample_data/ilan_shop_review.csv\")"
   ]
  },
  {
   "cell_type": "code",
   "execution_count": 5,
   "metadata": {},
   "outputs": [
    {
     "data": {
      "text/html": [
       "<div>\n",
       "<style>\n",
       "    .dataframe thead tr:only-child th {\n",
       "        text-align: right;\n",
       "    }\n",
       "\n",
       "    .dataframe thead th {\n",
       "        text-align: left;\n",
       "    }\n",
       "\n",
       "    .dataframe tbody tr th {\n",
       "        vertical-align: top;\n",
       "    }\n",
       "</style>\n",
       "<table border=\"1\" class=\"dataframe\">\n",
       "  <thead>\n",
       "    <tr style=\"text-align: right;\">\n",
       "      <th></th>\n",
       "      <th>reviewId</th>\n",
       "      <th>shopId</th>\n",
       "      <th>reviewAuthor</th>\n",
       "      <th>reviewDatetime</th>\n",
       "    </tr>\n",
       "  </thead>\n",
       "  <tbody>\n",
       "    <tr>\n",
       "      <th>0</th>\n",
       "      <td>1503206</td>\n",
       "      <td>84984</td>\n",
       "      <td>焦糖曼曼</td>\n",
       "      <td>2017-09-30 16:14:58</td>\n",
       "    </tr>\n",
       "    <tr>\n",
       "      <th>1</th>\n",
       "      <td>1366907</td>\n",
       "      <td>84984</td>\n",
       "      <td>迷籠的貓</td>\n",
       "      <td>2017-04-17 08:29:38</td>\n",
       "    </tr>\n",
       "    <tr>\n",
       "      <th>2</th>\n",
       "      <td>1043870</td>\n",
       "      <td>84984</td>\n",
       "      <td>Austin 貍</td>\n",
       "      <td>2016-05-31 05:41:05</td>\n",
       "    </tr>\n",
       "    <tr>\n",
       "      <th>3</th>\n",
       "      <td>974444</td>\n",
       "      <td>84984</td>\n",
       "      <td>哈拉摩卡</td>\n",
       "      <td>2016-01-06 02:50:46</td>\n",
       "    </tr>\n",
       "    <tr>\n",
       "      <th>4</th>\n",
       "      <td>892176</td>\n",
       "      <td>84984</td>\n",
       "      <td>luckbear</td>\n",
       "      <td>2015-07-29 12:00:02</td>\n",
       "    </tr>\n",
       "  </tbody>\n",
       "</table>\n",
       "</div>"
      ],
      "text/plain": [
       "   reviewId  shopId reviewAuthor       reviewDatetime\n",
       "0   1503206   84984         焦糖曼曼  2017-09-30 16:14:58\n",
       "1   1366907   84984         迷籠的貓  2017-04-17 08:29:38\n",
       "2   1043870   84984     Austin 貍  2016-05-31 05:41:05\n",
       "3    974444   84984         哈拉摩卡  2016-01-06 02:50:46\n",
       "4    892176   84984     luckbear  2015-07-29 12:00:02"
      ]
     },
     "execution_count": 5,
     "metadata": {},
     "output_type": "execute_result"
    }
   ],
   "source": [
    "rdf.head()"
   ]
  },
  {
   "cell_type": "code",
   "execution_count": 7,
   "metadata": {
    "collapsed": true
   },
   "outputs": [],
   "source": [
    "#Create new column timestamp\n",
    "rdf['reviewTimestamp']=rdf['reviewId']\n",
    "rdf['reviewTimestamp']=''\n",
    "rdf['year']=rdf['reviewId']\n",
    "rdf['year']=1\n",
    "rdf['month']=rdf['reviewId']\n",
    "rdf['month']=1\n",
    "rdf['day']=rdf['reviewId']\n",
    "rdf['day']=1"
   ]
  },
  {
   "cell_type": "code",
   "execution_count": 8,
   "metadata": {
    "collapsed": true
   },
   "outputs": [],
   "source": [
    "#extract year, month, day\n",
    "from datetime import datetime\n",
    "for i in range(len(rdf)):\n",
    "    date=datetime.strptime(rdf['reviewDatetime'][i],'%Y-%m-%d %H:%M:%S')\n",
    "    rdf.loc[i,'year']=date.year\n",
    "    rdf.loc[i,'month']=date.month\n",
    "    rdf.loc[i,'day']=date.day"
   ]
  },
  {
   "cell_type": "code",
   "execution_count": 11,
   "metadata": {},
   "outputs": [
    {
     "data": {
      "text/html": [
       "<div>\n",
       "<style>\n",
       "    .dataframe thead tr:only-child th {\n",
       "        text-align: right;\n",
       "    }\n",
       "\n",
       "    .dataframe thead th {\n",
       "        text-align: left;\n",
       "    }\n",
       "\n",
       "    .dataframe tbody tr th {\n",
       "        vertical-align: top;\n",
       "    }\n",
       "</style>\n",
       "<table border=\"1\" class=\"dataframe\">\n",
       "  <thead>\n",
       "    <tr style=\"text-align: right;\">\n",
       "      <th></th>\n",
       "      <th>reviewId</th>\n",
       "      <th>shopId</th>\n",
       "      <th>reviewAuthor</th>\n",
       "      <th>reviewDatetime</th>\n",
       "      <th>reviewTimestamp</th>\n",
       "      <th>year</th>\n",
       "      <th>month</th>\n",
       "      <th>day</th>\n",
       "    </tr>\n",
       "  </thead>\n",
       "  <tbody>\n",
       "    <tr>\n",
       "      <th>0</th>\n",
       "      <td>1503206</td>\n",
       "      <td>84984</td>\n",
       "      <td>焦糖曼曼</td>\n",
       "      <td>2017-09-30 16:14:58</td>\n",
       "      <td></td>\n",
       "      <td>2017</td>\n",
       "      <td>9</td>\n",
       "      <td>30</td>\n",
       "    </tr>\n",
       "    <tr>\n",
       "      <th>1</th>\n",
       "      <td>1366907</td>\n",
       "      <td>84984</td>\n",
       "      <td>迷籠的貓</td>\n",
       "      <td>2017-04-17 08:29:38</td>\n",
       "      <td></td>\n",
       "      <td>2017</td>\n",
       "      <td>4</td>\n",
       "      <td>17</td>\n",
       "    </tr>\n",
       "    <tr>\n",
       "      <th>2</th>\n",
       "      <td>1043870</td>\n",
       "      <td>84984</td>\n",
       "      <td>Austin 貍</td>\n",
       "      <td>2016-05-31 05:41:05</td>\n",
       "      <td></td>\n",
       "      <td>2016</td>\n",
       "      <td>5</td>\n",
       "      <td>31</td>\n",
       "    </tr>\n",
       "    <tr>\n",
       "      <th>3</th>\n",
       "      <td>974444</td>\n",
       "      <td>84984</td>\n",
       "      <td>哈拉摩卡</td>\n",
       "      <td>2016-01-06 02:50:46</td>\n",
       "      <td></td>\n",
       "      <td>2016</td>\n",
       "      <td>1</td>\n",
       "      <td>6</td>\n",
       "    </tr>\n",
       "    <tr>\n",
       "      <th>4</th>\n",
       "      <td>892176</td>\n",
       "      <td>84984</td>\n",
       "      <td>luckbear</td>\n",
       "      <td>2015-07-29 12:00:02</td>\n",
       "      <td></td>\n",
       "      <td>2015</td>\n",
       "      <td>7</td>\n",
       "      <td>29</td>\n",
       "    </tr>\n",
       "  </tbody>\n",
       "</table>\n",
       "</div>"
      ],
      "text/plain": [
       "   reviewId  shopId reviewAuthor       reviewDatetime reviewTimestamp  year  \\\n",
       "0   1503206   84984         焦糖曼曼  2017-09-30 16:14:58                  2017   \n",
       "1   1366907   84984         迷籠的貓  2017-04-17 08:29:38                  2017   \n",
       "2   1043870   84984     Austin 貍  2016-05-31 05:41:05                  2016   \n",
       "3    974444   84984         哈拉摩卡  2016-01-06 02:50:46                  2016   \n",
       "4    892176   84984     luckbear  2015-07-29 12:00:02                  2015   \n",
       "\n",
       "   month  day  \n",
       "0      9   30  \n",
       "1      4   17  \n",
       "2      5   31  \n",
       "3      1    6  \n",
       "4      7   29  "
      ]
     },
     "execution_count": 11,
     "metadata": {},
     "output_type": "execute_result"
    }
   ],
   "source": [
    "rdf.head()"
   ]
  },
  {
   "cell_type": "code",
   "execution_count": 12,
   "metadata": {
    "collapsed": true
   },
   "outputs": [],
   "source": [
    "#create makte timestamp here\n",
    "import time\n",
    "for i in range(len(rdf)):\n",
    "    dt=datetime.strptime(rdf['reviewDatetime'][i],'%Y-%m-%d %H:%M:%S')\n",
    "    rdf.loc[i,'reviewTimestamp']=time.mktime(dt.timetuple())"
   ]
  },
  {
   "cell_type": "code",
   "execution_count": 13,
   "metadata": {},
   "outputs": [
    {
     "data": {
      "text/html": [
       "<div>\n",
       "<style>\n",
       "    .dataframe thead tr:only-child th {\n",
       "        text-align: right;\n",
       "    }\n",
       "\n",
       "    .dataframe thead th {\n",
       "        text-align: left;\n",
       "    }\n",
       "\n",
       "    .dataframe tbody tr th {\n",
       "        vertical-align: top;\n",
       "    }\n",
       "</style>\n",
       "<table border=\"1\" class=\"dataframe\">\n",
       "  <thead>\n",
       "    <tr style=\"text-align: right;\">\n",
       "      <th></th>\n",
       "      <th>reviewId</th>\n",
       "      <th>shopId</th>\n",
       "      <th>reviewAuthor</th>\n",
       "      <th>reviewDatetime</th>\n",
       "      <th>reviewTimestamp</th>\n",
       "      <th>year</th>\n",
       "      <th>month</th>\n",
       "      <th>day</th>\n",
       "    </tr>\n",
       "  </thead>\n",
       "  <tbody>\n",
       "    <tr>\n",
       "      <th>0</th>\n",
       "      <td>1503206</td>\n",
       "      <td>84984</td>\n",
       "      <td>焦糖曼曼</td>\n",
       "      <td>2017-09-30 16:14:58</td>\n",
       "      <td>1.50676e+09</td>\n",
       "      <td>2017</td>\n",
       "      <td>9</td>\n",
       "      <td>30</td>\n",
       "    </tr>\n",
       "    <tr>\n",
       "      <th>1</th>\n",
       "      <td>1366907</td>\n",
       "      <td>84984</td>\n",
       "      <td>迷籠的貓</td>\n",
       "      <td>2017-04-17 08:29:38</td>\n",
       "      <td>1.49239e+09</td>\n",
       "      <td>2017</td>\n",
       "      <td>4</td>\n",
       "      <td>17</td>\n",
       "    </tr>\n",
       "    <tr>\n",
       "      <th>2</th>\n",
       "      <td>1043870</td>\n",
       "      <td>84984</td>\n",
       "      <td>Austin 貍</td>\n",
       "      <td>2016-05-31 05:41:05</td>\n",
       "      <td>1.46464e+09</td>\n",
       "      <td>2016</td>\n",
       "      <td>5</td>\n",
       "      <td>31</td>\n",
       "    </tr>\n",
       "    <tr>\n",
       "      <th>3</th>\n",
       "      <td>974444</td>\n",
       "      <td>84984</td>\n",
       "      <td>哈拉摩卡</td>\n",
       "      <td>2016-01-06 02:50:46</td>\n",
       "      <td>1.45202e+09</td>\n",
       "      <td>2016</td>\n",
       "      <td>1</td>\n",
       "      <td>6</td>\n",
       "    </tr>\n",
       "    <tr>\n",
       "      <th>4</th>\n",
       "      <td>892176</td>\n",
       "      <td>84984</td>\n",
       "      <td>luckbear</td>\n",
       "      <td>2015-07-29 12:00:02</td>\n",
       "      <td>1.43814e+09</td>\n",
       "      <td>2015</td>\n",
       "      <td>7</td>\n",
       "      <td>29</td>\n",
       "    </tr>\n",
       "  </tbody>\n",
       "</table>\n",
       "</div>"
      ],
      "text/plain": [
       "   reviewId  shopId reviewAuthor       reviewDatetime reviewTimestamp  year  \\\n",
       "0   1503206   84984         焦糖曼曼  2017-09-30 16:14:58     1.50676e+09  2017   \n",
       "1   1366907   84984         迷籠的貓  2017-04-17 08:29:38     1.49239e+09  2017   \n",
       "2   1043870   84984     Austin 貍  2016-05-31 05:41:05     1.46464e+09  2016   \n",
       "3    974444   84984         哈拉摩卡  2016-01-06 02:50:46     1.45202e+09  2016   \n",
       "4    892176   84984     luckbear  2015-07-29 12:00:02     1.43814e+09  2015   \n",
       "\n",
       "   month  day  \n",
       "0      9   30  \n",
       "1      4   17  \n",
       "2      5   31  \n",
       "3      1    6  \n",
       "4      7   29  "
      ]
     },
     "execution_count": 13,
     "metadata": {},
     "output_type": "execute_result"
    }
   ],
   "source": [
    "rdf.head()"
   ]
  },
  {
   "cell_type": "code",
   "execution_count": 15,
   "metadata": {
    "collapsed": true
   },
   "outputs": [],
   "source": [
    "# demo rating with SDRate, SDDelicious,SDServiceRate,SDEvironmentRate before having the real rating\n",
    "rdf['SDRate']=rdf['reviewId']\n",
    "rdf['SDRate']=''\n",
    "rdf['SDDelicious']=rdf['reviewId']\n",
    "rdf['SDDelicious']=1\n",
    "rdf['SDServiceRate']=rdf['reviewId']\n",
    "rdf['SDServiceRate']=1\n",
    "rdf['SDEnvironment']=rdf['reviewId']\n",
    "rdf['SDEnvironment']=1"
   ]
  },
  {
   "cell_type": "code",
   "execution_count": 16,
   "metadata": {
    "collapsed": true
   },
   "outputs": [],
   "source": [
    "#set random variable from 1 to 5 in SDDelicious,SDServiceRate,SDEvironmentRate, SDRate is the average of other 3\n",
    "import random\n",
    "for i in range(len(rdf)):\n",
    "    rdf.loc[i,'SDDelicious']=random.randint(1,5)\n",
    "    rdf.loc[i,'SDServiceRate']=random.randint(1,5)\n",
    "    rdf.loc[i,'SDEnvironment']=random.randint(1,5)"
   ]
  },
  {
   "cell_type": "code",
   "execution_count": 17,
   "metadata": {
    "collapsed": true
   },
   "outputs": [],
   "source": [
    "for i in range(len(rdf)):\n",
    "    average=(rdf.loc[i,'SDDelicious']+rdf.loc[i,'SDServiceRate']+rdf.loc[i,'SDEnvironment'])/3\n",
    "    rdf.loc[i,'SDRate']=round(average)"
   ]
  },
  {
   "cell_type": "code",
   "execution_count": 18,
   "metadata": {},
   "outputs": [
    {
     "data": {
      "text/html": [
       "<div>\n",
       "<style>\n",
       "    .dataframe thead tr:only-child th {\n",
       "        text-align: right;\n",
       "    }\n",
       "\n",
       "    .dataframe thead th {\n",
       "        text-align: left;\n",
       "    }\n",
       "\n",
       "    .dataframe tbody tr th {\n",
       "        vertical-align: top;\n",
       "    }\n",
       "</style>\n",
       "<table border=\"1\" class=\"dataframe\">\n",
       "  <thead>\n",
       "    <tr style=\"text-align: right;\">\n",
       "      <th></th>\n",
       "      <th>reviewId</th>\n",
       "      <th>shopId</th>\n",
       "      <th>reviewAuthor</th>\n",
       "      <th>reviewDatetime</th>\n",
       "      <th>reviewTimestamp</th>\n",
       "      <th>year</th>\n",
       "      <th>month</th>\n",
       "      <th>day</th>\n",
       "      <th>SDRate</th>\n",
       "      <th>SDDelicious</th>\n",
       "      <th>SDServiceRate</th>\n",
       "      <th>SDEnvironment</th>\n",
       "    </tr>\n",
       "  </thead>\n",
       "  <tbody>\n",
       "    <tr>\n",
       "      <th>0</th>\n",
       "      <td>1503206</td>\n",
       "      <td>84984</td>\n",
       "      <td>焦糖曼曼</td>\n",
       "      <td>2017-09-30 16:14:58</td>\n",
       "      <td>1.50676e+09</td>\n",
       "      <td>2017</td>\n",
       "      <td>9</td>\n",
       "      <td>30</td>\n",
       "      <td>5</td>\n",
       "      <td>5</td>\n",
       "      <td>5</td>\n",
       "      <td>5</td>\n",
       "    </tr>\n",
       "    <tr>\n",
       "      <th>1</th>\n",
       "      <td>1366907</td>\n",
       "      <td>84984</td>\n",
       "      <td>迷籠的貓</td>\n",
       "      <td>2017-04-17 08:29:38</td>\n",
       "      <td>1.49239e+09</td>\n",
       "      <td>2017</td>\n",
       "      <td>4</td>\n",
       "      <td>17</td>\n",
       "      <td>2</td>\n",
       "      <td>1</td>\n",
       "      <td>3</td>\n",
       "      <td>3</td>\n",
       "    </tr>\n",
       "    <tr>\n",
       "      <th>2</th>\n",
       "      <td>1043870</td>\n",
       "      <td>84984</td>\n",
       "      <td>Austin 貍</td>\n",
       "      <td>2016-05-31 05:41:05</td>\n",
       "      <td>1.46464e+09</td>\n",
       "      <td>2016</td>\n",
       "      <td>5</td>\n",
       "      <td>31</td>\n",
       "      <td>4</td>\n",
       "      <td>5</td>\n",
       "      <td>2</td>\n",
       "      <td>4</td>\n",
       "    </tr>\n",
       "    <tr>\n",
       "      <th>3</th>\n",
       "      <td>974444</td>\n",
       "      <td>84984</td>\n",
       "      <td>哈拉摩卡</td>\n",
       "      <td>2016-01-06 02:50:46</td>\n",
       "      <td>1.45202e+09</td>\n",
       "      <td>2016</td>\n",
       "      <td>1</td>\n",
       "      <td>6</td>\n",
       "      <td>3</td>\n",
       "      <td>4</td>\n",
       "      <td>2</td>\n",
       "      <td>4</td>\n",
       "    </tr>\n",
       "    <tr>\n",
       "      <th>4</th>\n",
       "      <td>892176</td>\n",
       "      <td>84984</td>\n",
       "      <td>luckbear</td>\n",
       "      <td>2015-07-29 12:00:02</td>\n",
       "      <td>1.43814e+09</td>\n",
       "      <td>2015</td>\n",
       "      <td>7</td>\n",
       "      <td>29</td>\n",
       "      <td>2</td>\n",
       "      <td>2</td>\n",
       "      <td>2</td>\n",
       "      <td>3</td>\n",
       "    </tr>\n",
       "  </tbody>\n",
       "</table>\n",
       "</div>"
      ],
      "text/plain": [
       "   reviewId  shopId reviewAuthor       reviewDatetime reviewTimestamp  year  \\\n",
       "0   1503206   84984         焦糖曼曼  2017-09-30 16:14:58     1.50676e+09  2017   \n",
       "1   1366907   84984         迷籠的貓  2017-04-17 08:29:38     1.49239e+09  2017   \n",
       "2   1043870   84984     Austin 貍  2016-05-31 05:41:05     1.46464e+09  2016   \n",
       "3    974444   84984         哈拉摩卡  2016-01-06 02:50:46     1.45202e+09  2016   \n",
       "4    892176   84984     luckbear  2015-07-29 12:00:02     1.43814e+09  2015   \n",
       "\n",
       "   month  day SDRate  SDDelicious  SDServiceRate  SDEnvironment  \n",
       "0      9   30      5            5              5              5  \n",
       "1      4   17      2            1              3              3  \n",
       "2      5   31      4            5              2              4  \n",
       "3      1    6      3            4              2              4  \n",
       "4      7   29      2            2              2              3  "
      ]
     },
     "execution_count": 18,
     "metadata": {},
     "output_type": "execute_result"
    }
   ],
   "source": [
    "rdf.head()"
   ]
  },
  {
   "cell_type": "code",
   "execution_count": 19,
   "metadata": {
    "collapsed": true
   },
   "outputs": [],
   "source": [
    "#write to csv file then\n",
    "rdf.to_csv(\"ilan_shop_review2.csv\",encoding=\"utf-8\")"
   ]
  },
  {
   "cell_type": "markdown",
   "metadata": {},
   "source": [
    "---"
   ]
  },
  {
   "cell_type": "markdown",
   "metadata": {},
   "source": [
    "# Process ilan_shop_detail.csv "
   ]
  },
  {
   "cell_type": "markdown",
   "metadata": {},
   "source": [
    "# Extract Area to Division"
   ]
  },
  {
   "cell_type": "code",
   "execution_count": 3,
   "metadata": {
    "collapsed": true
   },
   "outputs": [],
   "source": [
    "df=pd.read_csv(\"ilan_shop_detail_clean.csv\")"
   ]
  },
  {
   "cell_type": "code",
   "execution_count": 4,
   "metadata": {},
   "outputs": [
    {
     "data": {
      "text/html": [
       "<div>\n",
       "<style>\n",
       "    .dataframe thead tr:only-child th {\n",
       "        text-align: right;\n",
       "    }\n",
       "\n",
       "    .dataframe thead th {\n",
       "        text-align: left;\n",
       "    }\n",
       "\n",
       "    .dataframe tbody tr th {\n",
       "        vertical-align: top;\n",
       "    }\n",
       "</style>\n",
       "<table border=\"1\" class=\"dataframe\">\n",
       "  <thead>\n",
       "    <tr style=\"text-align: right;\">\n",
       "      <th></th>\n",
       "      <th>Unnamed: 0</th>\n",
       "      <th>id</th>\n",
       "      <th>shopId</th>\n",
       "      <th>shopLatitude</th>\n",
       "      <th>shopLongitude</th>\n",
       "      <th>SDCategory</th>\n",
       "      <th>SDConsumption</th>\n",
       "      <th>SDTelephone</th>\n",
       "      <th>SDAddress</th>\n",
       "      <th>SDRate</th>\n",
       "      <th>SDRateCount</th>\n",
       "      <th>SDWatchCount</th>\n",
       "      <th>SDBookmarkCount</th>\n",
       "      <th>SDDeliciousRate</th>\n",
       "      <th>SDServiceRate</th>\n",
       "      <th>SDEnvRate</th>\n",
       "      <th>shopName</th>\n",
       "    </tr>\n",
       "  </thead>\n",
       "  <tbody>\n",
       "    <tr>\n",
       "      <th>0</th>\n",
       "      <td>0</td>\n",
       "      <td>1</td>\n",
       "      <td>84984</td>\n",
       "      <td>24.756402</td>\n",
       "      <td>121.757506</td>\n",
       "      <td>其他小吃</td>\n",
       "      <td>114.0</td>\n",
       "      <td>03-936-9007</td>\n",
       "      <td>宜蘭縣宜蘭市新民路31號</td>\n",
       "      <td>45</td>\n",
       "      <td>22</td>\n",
       "      <td>287550</td>\n",
       "      <td>148</td>\n",
       "      <td>18</td>\n",
       "      <td>14</td>\n",
       "      <td>13</td>\n",
       "      <td>大成羊排麵-牛肉麵</td>\n",
       "    </tr>\n",
       "    <tr>\n",
       "      <th>1</th>\n",
       "      <td>1</td>\n",
       "      <td>2</td>\n",
       "      <td>40797</td>\n",
       "      <td>24.676926</td>\n",
       "      <td>121.763772</td>\n",
       "      <td>休閒零食</td>\n",
       "      <td>178.0</td>\n",
       "      <td>03-954-9881</td>\n",
       "      <td>宜蘭縣羅東鎮純精路二段130號</td>\n",
       "      <td>45</td>\n",
       "      <td>135</td>\n",
       "      <td>4134237</td>\n",
       "      <td>104</td>\n",
       "      <td>16</td>\n",
       "      <td>16</td>\n",
       "      <td>15</td>\n",
       "      <td>宜蘭餅食品公司</td>\n",
       "    </tr>\n",
       "    <tr>\n",
       "      <th>2</th>\n",
       "      <td>2</td>\n",
       "      <td>3</td>\n",
       "      <td>28880</td>\n",
       "      <td>24.754241</td>\n",
       "      <td>121.747397</td>\n",
       "      <td>麵食點心</td>\n",
       "      <td>67.0</td>\n",
       "      <td>03-932-5641</td>\n",
       "      <td>宜蘭縣宜蘭市泰山路25號之1(光復國小對面)</td>\n",
       "      <td>45</td>\n",
       "      <td>139</td>\n",
       "      <td>448930</td>\n",
       "      <td>801</td>\n",
       "      <td>17</td>\n",
       "      <td>12</td>\n",
       "      <td>9</td>\n",
       "      <td>正好鮮肉小籠包-原-正常鮮肉小籠包</td>\n",
       "    </tr>\n",
       "    <tr>\n",
       "      <th>3</th>\n",
       "      <td>3</td>\n",
       "      <td>4</td>\n",
       "      <td>123235</td>\n",
       "      <td>24.753671</td>\n",
       "      <td>121.750560</td>\n",
       "      <td>其它中式料理</td>\n",
       "      <td>862.0</td>\n",
       "      <td>03-910-1011</td>\n",
       "      <td>宜蘭縣宜蘭市民權路二段36號六樓</td>\n",
       "      <td>45</td>\n",
       "      <td>145</td>\n",
       "      <td>432831</td>\n",
       "      <td>663</td>\n",
       "      <td>17</td>\n",
       "      <td>15</td>\n",
       "      <td>15</td>\n",
       "      <td>蘭城晶英酒店-紅樓中餐廳</td>\n",
       "    </tr>\n",
       "    <tr>\n",
       "      <th>4</th>\n",
       "      <td>4</td>\n",
       "      <td>5</td>\n",
       "      <td>33031</td>\n",
       "      <td>24.682477</td>\n",
       "      <td>121.771274</td>\n",
       "      <td>其他小吃</td>\n",
       "      <td>40.0</td>\n",
       "      <td>03-955-2736</td>\n",
       "      <td>宜蘭縣羅東鎮中正北路109號</td>\n",
       "      <td>45</td>\n",
       "      <td>169</td>\n",
       "      <td>273977</td>\n",
       "      <td>385</td>\n",
       "      <td>13</td>\n",
       "      <td>9</td>\n",
       "      <td>8</td>\n",
       "      <td>林場肉羹</td>\n",
       "    </tr>\n",
       "  </tbody>\n",
       "</table>\n",
       "</div>"
      ],
      "text/plain": [
       "   Unnamed: 0  id  shopId  shopLatitude  shopLongitude SDCategory  \\\n",
       "0           0   1   84984     24.756402     121.757506       其他小吃   \n",
       "1           1   2   40797     24.676926     121.763772       休閒零食   \n",
       "2           2   3   28880     24.754241     121.747397       麵食點心   \n",
       "3           3   4  123235     24.753671     121.750560     其它中式料理   \n",
       "4           4   5   33031     24.682477     121.771274       其他小吃   \n",
       "\n",
       "   SDConsumption  SDTelephone               SDAddress  SDRate  SDRateCount  \\\n",
       "0          114.0  03-936-9007            宜蘭縣宜蘭市新民路31號      45           22   \n",
       "1          178.0  03-954-9881         宜蘭縣羅東鎮純精路二段130號      45          135   \n",
       "2           67.0  03-932-5641  宜蘭縣宜蘭市泰山路25號之1(光復國小對面)      45          139   \n",
       "3          862.0  03-910-1011        宜蘭縣宜蘭市民權路二段36號六樓      45          145   \n",
       "4           40.0  03-955-2736          宜蘭縣羅東鎮中正北路109號      45          169   \n",
       "\n",
       "   SDWatchCount  SDBookmarkCount  SDDeliciousRate  SDServiceRate  SDEnvRate  \\\n",
       "0        287550              148               18             14         13   \n",
       "1       4134237              104               16             16         15   \n",
       "2        448930              801               17             12          9   \n",
       "3        432831              663               17             15         15   \n",
       "4        273977              385               13              9          8   \n",
       "\n",
       "            shopName  \n",
       "0          大成羊排麵-牛肉麵  \n",
       "1            宜蘭餅食品公司  \n",
       "2  正好鮮肉小籠包-原-正常鮮肉小籠包  \n",
       "3       蘭城晶英酒店-紅樓中餐廳  \n",
       "4               林場肉羹  "
      ]
     },
     "execution_count": 4,
     "metadata": {},
     "output_type": "execute_result"
    }
   ],
   "source": [
    "df.head()"
   ]
  },
  {
   "cell_type": "code",
   "execution_count": 5,
   "metadata": {
    "collapsed": true
   },
   "outputs": [],
   "source": [
    "df['Division']=df['shopName']\n",
    "df['Division']=\"\""
   ]
  },
  {
   "cell_type": "code",
   "execution_count": 6,
   "metadata": {
    "collapsed": true
   },
   "outputs": [],
   "source": [
    "for i in range(len(df)):\n",
    "    df.loc[i,'Division']=df.loc[i,'SDAddress'][3:6]"
   ]
  },
  {
   "cell_type": "code",
   "execution_count": 7,
   "metadata": {},
   "outputs": [
    {
     "data": {
      "text/html": [
       "<div>\n",
       "<style>\n",
       "    .dataframe thead tr:only-child th {\n",
       "        text-align: right;\n",
       "    }\n",
       "\n",
       "    .dataframe thead th {\n",
       "        text-align: left;\n",
       "    }\n",
       "\n",
       "    .dataframe tbody tr th {\n",
       "        vertical-align: top;\n",
       "    }\n",
       "</style>\n",
       "<table border=\"1\" class=\"dataframe\">\n",
       "  <thead>\n",
       "    <tr style=\"text-align: right;\">\n",
       "      <th></th>\n",
       "      <th>Unnamed: 0</th>\n",
       "      <th>id</th>\n",
       "      <th>shopId</th>\n",
       "      <th>shopLatitude</th>\n",
       "      <th>shopLongitude</th>\n",
       "      <th>SDCategory</th>\n",
       "      <th>SDConsumption</th>\n",
       "      <th>SDTelephone</th>\n",
       "      <th>SDAddress</th>\n",
       "      <th>SDRate</th>\n",
       "      <th>SDRateCount</th>\n",
       "      <th>SDWatchCount</th>\n",
       "      <th>SDBookmarkCount</th>\n",
       "      <th>SDDeliciousRate</th>\n",
       "      <th>SDServiceRate</th>\n",
       "      <th>SDEnvRate</th>\n",
       "      <th>shopName</th>\n",
       "      <th>Division</th>\n",
       "    </tr>\n",
       "  </thead>\n",
       "  <tbody>\n",
       "    <tr>\n",
       "      <th>0</th>\n",
       "      <td>0</td>\n",
       "      <td>1</td>\n",
       "      <td>84984</td>\n",
       "      <td>24.756402</td>\n",
       "      <td>121.757506</td>\n",
       "      <td>其他小吃</td>\n",
       "      <td>114.0</td>\n",
       "      <td>03-936-9007</td>\n",
       "      <td>宜蘭縣宜蘭市新民路31號</td>\n",
       "      <td>45</td>\n",
       "      <td>22</td>\n",
       "      <td>287550</td>\n",
       "      <td>148</td>\n",
       "      <td>18</td>\n",
       "      <td>14</td>\n",
       "      <td>13</td>\n",
       "      <td>大成羊排麵-牛肉麵</td>\n",
       "      <td>宜蘭市</td>\n",
       "    </tr>\n",
       "    <tr>\n",
       "      <th>1</th>\n",
       "      <td>1</td>\n",
       "      <td>2</td>\n",
       "      <td>40797</td>\n",
       "      <td>24.676926</td>\n",
       "      <td>121.763772</td>\n",
       "      <td>休閒零食</td>\n",
       "      <td>178.0</td>\n",
       "      <td>03-954-9881</td>\n",
       "      <td>宜蘭縣羅東鎮純精路二段130號</td>\n",
       "      <td>45</td>\n",
       "      <td>135</td>\n",
       "      <td>4134237</td>\n",
       "      <td>104</td>\n",
       "      <td>16</td>\n",
       "      <td>16</td>\n",
       "      <td>15</td>\n",
       "      <td>宜蘭餅食品公司</td>\n",
       "      <td>羅東鎮</td>\n",
       "    </tr>\n",
       "    <tr>\n",
       "      <th>2</th>\n",
       "      <td>2</td>\n",
       "      <td>3</td>\n",
       "      <td>28880</td>\n",
       "      <td>24.754241</td>\n",
       "      <td>121.747397</td>\n",
       "      <td>麵食點心</td>\n",
       "      <td>67.0</td>\n",
       "      <td>03-932-5641</td>\n",
       "      <td>宜蘭縣宜蘭市泰山路25號之1(光復國小對面)</td>\n",
       "      <td>45</td>\n",
       "      <td>139</td>\n",
       "      <td>448930</td>\n",
       "      <td>801</td>\n",
       "      <td>17</td>\n",
       "      <td>12</td>\n",
       "      <td>9</td>\n",
       "      <td>正好鮮肉小籠包-原-正常鮮肉小籠包</td>\n",
       "      <td>宜蘭市</td>\n",
       "    </tr>\n",
       "    <tr>\n",
       "      <th>3</th>\n",
       "      <td>3</td>\n",
       "      <td>4</td>\n",
       "      <td>123235</td>\n",
       "      <td>24.753671</td>\n",
       "      <td>121.750560</td>\n",
       "      <td>其它中式料理</td>\n",
       "      <td>862.0</td>\n",
       "      <td>03-910-1011</td>\n",
       "      <td>宜蘭縣宜蘭市民權路二段36號六樓</td>\n",
       "      <td>45</td>\n",
       "      <td>145</td>\n",
       "      <td>432831</td>\n",
       "      <td>663</td>\n",
       "      <td>17</td>\n",
       "      <td>15</td>\n",
       "      <td>15</td>\n",
       "      <td>蘭城晶英酒店-紅樓中餐廳</td>\n",
       "      <td>宜蘭市</td>\n",
       "    </tr>\n",
       "    <tr>\n",
       "      <th>4</th>\n",
       "      <td>4</td>\n",
       "      <td>5</td>\n",
       "      <td>33031</td>\n",
       "      <td>24.682477</td>\n",
       "      <td>121.771274</td>\n",
       "      <td>其他小吃</td>\n",
       "      <td>40.0</td>\n",
       "      <td>03-955-2736</td>\n",
       "      <td>宜蘭縣羅東鎮中正北路109號</td>\n",
       "      <td>45</td>\n",
       "      <td>169</td>\n",
       "      <td>273977</td>\n",
       "      <td>385</td>\n",
       "      <td>13</td>\n",
       "      <td>9</td>\n",
       "      <td>8</td>\n",
       "      <td>林場肉羹</td>\n",
       "      <td>羅東鎮</td>\n",
       "    </tr>\n",
       "  </tbody>\n",
       "</table>\n",
       "</div>"
      ],
      "text/plain": [
       "   Unnamed: 0  id  shopId  shopLatitude  shopLongitude SDCategory  \\\n",
       "0           0   1   84984     24.756402     121.757506       其他小吃   \n",
       "1           1   2   40797     24.676926     121.763772       休閒零食   \n",
       "2           2   3   28880     24.754241     121.747397       麵食點心   \n",
       "3           3   4  123235     24.753671     121.750560     其它中式料理   \n",
       "4           4   5   33031     24.682477     121.771274       其他小吃   \n",
       "\n",
       "   SDConsumption  SDTelephone               SDAddress  SDRate  SDRateCount  \\\n",
       "0          114.0  03-936-9007            宜蘭縣宜蘭市新民路31號      45           22   \n",
       "1          178.0  03-954-9881         宜蘭縣羅東鎮純精路二段130號      45          135   \n",
       "2           67.0  03-932-5641  宜蘭縣宜蘭市泰山路25號之1(光復國小對面)      45          139   \n",
       "3          862.0  03-910-1011        宜蘭縣宜蘭市民權路二段36號六樓      45          145   \n",
       "4           40.0  03-955-2736          宜蘭縣羅東鎮中正北路109號      45          169   \n",
       "\n",
       "   SDWatchCount  SDBookmarkCount  SDDeliciousRate  SDServiceRate  SDEnvRate  \\\n",
       "0        287550              148               18             14         13   \n",
       "1       4134237              104               16             16         15   \n",
       "2        448930              801               17             12          9   \n",
       "3        432831              663               17             15         15   \n",
       "4        273977              385               13              9          8   \n",
       "\n",
       "            shopName Division  \n",
       "0          大成羊排麵-牛肉麵      宜蘭市  \n",
       "1            宜蘭餅食品公司      羅東鎮  \n",
       "2  正好鮮肉小籠包-原-正常鮮肉小籠包      宜蘭市  \n",
       "3       蘭城晶英酒店-紅樓中餐廳      宜蘭市  \n",
       "4               林場肉羹      羅東鎮  "
      ]
     },
     "execution_count": 7,
     "metadata": {},
     "output_type": "execute_result"
    }
   ],
   "source": [
    "df.head()"
   ]
  },
  {
   "cell_type": "code",
   "execution_count": 39,
   "metadata": {},
   "outputs": [
    {
     "data": {
      "text/html": [
       "<div>\n",
       "<style>\n",
       "    .dataframe thead tr:only-child th {\n",
       "        text-align: right;\n",
       "    }\n",
       "\n",
       "    .dataframe thead th {\n",
       "        text-align: left;\n",
       "    }\n",
       "\n",
       "    .dataframe tbody tr th {\n",
       "        vertical-align: top;\n",
       "    }\n",
       "</style>\n",
       "<table border=\"1\" class=\"dataframe\">\n",
       "  <thead>\n",
       "    <tr style=\"text-align: right;\">\n",
       "      <th></th>\n",
       "      <th>id</th>\n",
       "      <th>shopId</th>\n",
       "      <th>shopLatitude</th>\n",
       "      <th>shopLongitude</th>\n",
       "      <th>SDCategory</th>\n",
       "      <th>SDConsumption</th>\n",
       "      <th>SDTelephone</th>\n",
       "      <th>SDAddress</th>\n",
       "      <th>SDRate</th>\n",
       "      <th>SDRateCount</th>\n",
       "      <th>SDWatchCount</th>\n",
       "      <th>SDBookmarkCount</th>\n",
       "      <th>SDDeliciousRate</th>\n",
       "      <th>SDServiceRate</th>\n",
       "      <th>SDEnvRate</th>\n",
       "      <th>shopName</th>\n",
       "      <th>Division</th>\n",
       "    </tr>\n",
       "  </thead>\n",
       "  <tbody>\n",
       "    <tr>\n",
       "      <th>564</th>\n",
       "      <td>565</td>\n",
       "      <td>73013</td>\n",
       "      <td>24.757583</td>\n",
       "      <td>121.752822</td>\n",
       "      <td>其他小吃</td>\n",
       "      <td>139.0</td>\n",
       "      <td>03-936-6556</td>\n",
       "      <td>None</td>\n",
       "      <td>45</td>\n",
       "      <td>23</td>\n",
       "      <td>91380</td>\n",
       "      <td>67</td>\n",
       "      <td>15</td>\n",
       "      <td>10</td>\n",
       "      <td>8</td>\n",
       "      <td>宜蘭廟口紅槽魷魚</td>\n",
       "      <td>e</td>\n",
       "    </tr>\n",
       "  </tbody>\n",
       "</table>\n",
       "</div>"
      ],
      "text/plain": [
       "      id  shopId  shopLatitude  shopLongitude SDCategory  SDConsumption  \\\n",
       "564  565   73013     24.757583     121.752822       其他小吃          139.0   \n",
       "\n",
       "     SDTelephone SDAddress  SDRate  SDRateCount  SDWatchCount  \\\n",
       "564  03-936-6556      None      45           23         91380   \n",
       "\n",
       "     SDBookmarkCount  SDDeliciousRate  SDServiceRate  SDEnvRate  shopName  \\\n",
       "564               67               15             10          8  宜蘭廟口紅槽魷魚   \n",
       "\n",
       "    Division  \n",
       "564        e  "
      ]
     },
     "execution_count": 39,
     "metadata": {},
     "output_type": "execute_result"
    }
   ],
   "source": [
    "df.loc[df['Division']=='e']"
   ]
  },
  {
   "cell_type": "code",
   "execution_count": 43,
   "metadata": {
    "collapsed": true
   },
   "outputs": [],
   "source": [
    "area=list(df[\"Division\"].unique())"
   ]
  },
  {
   "cell_type": "code",
   "execution_count": 8,
   "metadata": {
    "collapsed": true
   },
   "outputs": [],
   "source": [
    "df.to_csv(\"ilan_shop_detail2.csv\",encoding=\"utf-8\")"
   ]
  },
  {
   "cell_type": "markdown",
   "metadata": {},
   "source": [
    "## Another table for Category"
   ]
  },
  {
   "cell_type": "code",
   "execution_count": 35,
   "metadata": {
    "collapsed": true
   },
   "outputs": [],
   "source": [
    "rdf=pd.read_csv(\"sample_data/ilan_shop_detail.csv\")"
   ]
  },
  {
   "cell_type": "code",
   "execution_count": 36,
   "metadata": {},
   "outputs": [
    {
     "data": {
      "text/plain": [
       "id                   0\n",
       "shopId               0\n",
       "shopLatitude         0\n",
       "shopLongitude        0\n",
       "SDCategory           1\n",
       "SDConsumption      336\n",
       "SDTelephone          0\n",
       "SDAddress            0\n",
       "SDRate               0\n",
       "SDRateCount          0\n",
       "SDWatchCount         0\n",
       "SDBookmarkCount      0\n",
       "SDDeliciousRate      0\n",
       "SDServiceRate        0\n",
       "SDEnvRate            0\n",
       "shopName             0\n",
       "dtype: int64"
      ]
     },
     "execution_count": 36,
     "metadata": {},
     "output_type": "execute_result"
    }
   ],
   "source": [
    "#check for null value in the dataset\n",
    "rdf.isnull().sum()"
   ]
  },
  {
   "cell_type": "code",
   "execution_count": 37,
   "metadata": {},
   "outputs": [
    {
     "data": {
      "text/plain": [
       "id                 0\n",
       "shopId             0\n",
       "shopLatitude       0\n",
       "shopLongitude      0\n",
       "SDCategory         0\n",
       "SDConsumption      0\n",
       "SDTelephone        0\n",
       "SDAddress          0\n",
       "SDRate             0\n",
       "SDRateCount        0\n",
       "SDWatchCount       0\n",
       "SDBookmarkCount    0\n",
       "SDDeliciousRate    0\n",
       "SDServiceRate      0\n",
       "SDEnvRate          0\n",
       "shopName           0\n",
       "dtype: int64"
      ]
     },
     "execution_count": 37,
     "metadata": {},
     "output_type": "execute_result"
    }
   ],
   "source": [
    "# check again for sure\n",
    "rdf2=rdf.dropna()\n",
    "rdf2.isnull().sum()"
   ]
  },
  {
   "cell_type": "code",
   "execution_count": 38,
   "metadata": {
    "collapsed": true
   },
   "outputs": [],
   "source": [
    "#save the clean state to another file\n",
    "rdf2.to_csv(\"ilan_shop_clean.csv\",encoding=\"utf8\")"
   ]
  },
  {
   "cell_type": "code",
   "execution_count": 39,
   "metadata": {
    "collapsed": true
   },
   "outputs": [],
   "source": [
    "#format category\n",
    "df=pd.read_csv(\"ilan_shop_clean.csv\")\n",
    "a=df['SDCategory']\n",
    "for i in range(len(df)):\n",
    "    b=a[i].split(\"、\")\n",
    "    for k in range (len(b)):\n",
    "        print(df['shopId'][i],end=',',file=open(\"ilan_shop_categories.csv\", \"a\",encoding='utf-8'))\n",
    "        print(b[k],file=open(\"ilan_shop_categories.csv\", \"a\",encoding='utf-8'))"
   ]
  },
  {
   "cell_type": "markdown",
   "metadata": {
    "collapsed": true
   },
   "source": [
    "---"
   ]
  },
  {
   "cell_type": "markdown",
   "metadata": {},
   "source": [
    "# Review Distribution"
   ]
  },
  {
   "cell_type": "code",
   "execution_count": 21,
   "metadata": {
    "collapsed": true
   },
   "outputs": [],
   "source": [
    "import pandas as pd\n",
    "import matplotlib.pyplot as plt"
   ]
  },
  {
   "cell_type": "code",
   "execution_count": 5,
   "metadata": {
    "collapsed": true
   },
   "outputs": [],
   "source": [
    "import numpy as np"
   ]
  },
  {
   "cell_type": "code",
   "execution_count": 6,
   "metadata": {
    "collapsed": true
   },
   "outputs": [],
   "source": [
    "import py2neo\n",
    "from py2neo import Graph, Node, Relationship"
   ]
  },
  {
   "cell_type": "code",
   "execution_count": 7,
   "metadata": {
    "collapsed": true
   },
   "outputs": [],
   "source": [
    "graph=Graph(\"localhost\")"
   ]
  },
  {
   "cell_type": "code",
   "execution_count": 12,
   "metadata": {
    "collapsed": true
   },
   "outputs": [],
   "source": [
    "from pandas import DataFrame\n",
    "query=\"\"\"\n",
    "    match (n:Restaurant)<-[:ABOUT]-(r:Review)\n",
    "with n, count (r) as reviewCount\n",
    "return n.shopId,reviewCount\n",
    "\"\"\"\n",
    "df=DataFrame(graph.data(query))"
   ]
  },
  {
   "cell_type": "code",
   "execution_count": 13,
   "metadata": {},
   "outputs": [
    {
     "data": {
      "text/html": [
       "<div>\n",
       "<style>\n",
       "    .dataframe thead tr:only-child th {\n",
       "        text-align: right;\n",
       "    }\n",
       "\n",
       "    .dataframe thead th {\n",
       "        text-align: left;\n",
       "    }\n",
       "\n",
       "    .dataframe tbody tr th {\n",
       "        vertical-align: top;\n",
       "    }\n",
       "</style>\n",
       "<table border=\"1\" class=\"dataframe\">\n",
       "  <thead>\n",
       "    <tr style=\"text-align: right;\">\n",
       "      <th></th>\n",
       "      <th>n.shopId</th>\n",
       "      <th>reviewCount</th>\n",
       "    </tr>\n",
       "  </thead>\n",
       "  <tbody>\n",
       "    <tr>\n",
       "      <th>0</th>\n",
       "      <td>84984</td>\n",
       "      <td>16</td>\n",
       "    </tr>\n",
       "    <tr>\n",
       "      <th>1</th>\n",
       "      <td>40797</td>\n",
       "      <td>132</td>\n",
       "    </tr>\n",
       "    <tr>\n",
       "      <th>2</th>\n",
       "      <td>28880</td>\n",
       "      <td>106</td>\n",
       "    </tr>\n",
       "    <tr>\n",
       "      <th>3</th>\n",
       "      <td>123235</td>\n",
       "      <td>121</td>\n",
       "    </tr>\n",
       "    <tr>\n",
       "      <th>4</th>\n",
       "      <td>33031</td>\n",
       "      <td>127</td>\n",
       "    </tr>\n",
       "  </tbody>\n",
       "</table>\n",
       "</div>"
      ],
      "text/plain": [
       "   n.shopId  reviewCount\n",
       "0     84984           16\n",
       "1     40797          132\n",
       "2     28880          106\n",
       "3    123235          121\n",
       "4     33031          127"
      ]
     },
     "execution_count": 13,
     "metadata": {},
     "output_type": "execute_result"
    }
   ],
   "source": [
    "df.head()"
   ]
  },
  {
   "cell_type": "code",
   "execution_count": 32,
   "metadata": {},
   "outputs": [
    {
     "data": {
      "text/plain": [
       "array([[<matplotlib.axes._subplots.AxesSubplot object at 0x000001D4310ECA20>]], dtype=object)"
      ]
     },
     "execution_count": 32,
     "metadata": {},
     "output_type": "execute_result"
    }
   ],
   "source": [
    "df.hist(column='reviewCount')"
   ]
  },
  {
   "cell_type": "code",
   "execution_count": 33,
   "metadata": {},
   "outputs": [
    {
     "data": {
      "image/png": "[encoded data removed]",
      "text/plain": [
       "<matplotlib.figure.Figure at 0x1d4310a5860>"
      ]
     },
     "metadata": {},
     "output_type": "display_data"
    }
   ],
   "source": [
    "plt.show()"
   ]
  },
  {
   "cell_type": "markdown",
   "metadata": {},
   "source": [
    "---"
   ]
  },
  {
   "cell_type": "markdown",
   "metadata": {},
   "source": [
    "# Run Script for Top Month"
   ]
  },
  {
   "cell_type": "code",
   "execution_count": 36,
   "metadata": {
    "collapsed": true
   },
   "outputs": [],
   "source": [
    "import py2neo\n",
    "from py2neo import Graph, Node, Relationship"
   ]
  },
  {
   "cell_type": "code",
   "execution_count": 37,
   "metadata": {
    "collapsed": true
   },
   "outputs": [],
   "source": [
    "graph=Graph(\"localhost\")"
   ]
  },
  {
   "cell_type": "code",
   "execution_count": 38,
   "metadata": {
    "collapsed": true
   },
   "outputs": [],
   "source": [
    "query=\"\"\"\n",
    "//month_top\n",
    "Match (res:Restaurant)-[:IN_DIVISION]->(area:Division),\n",
    "(area)-[:IN_MONTH]->(m:Month),(res)<-[r:ABOUT]-(re:Review)-[:WRITTEN_IN]->(m)\n",
    "where area.e_name={location} and m.month={month}\n",
    "with res,m, count(r) as rs\n",
    "with res, m order by rs desc limit 3\n",
    "merge (m)-[:MONTH_TOP]->(res)\n",
    "\"\"\""
   ]
  },
  {
   "cell_type": "code",
   "execution_count": 42,
   "metadata": {},
   "outputs": [
    {
     "data": {
      "text/plain": [
       "'宜蘭市'"
      ]
     },
     "execution_count": 42,
     "metadata": {},
     "output_type": "execute_result"
    }
   ],
   "source": [
    "a=graph.data(\"Match (n:Division) return n.e_name as location\")\n",
    "a[0]['location']"
   ]
  },
  {
   "cell_type": "code",
   "execution_count": 46,
   "metadata": {
    "collapsed": true
   },
   "outputs": [],
   "source": [
    "for row in a:\n",
    "    for i in range(1,13):\n",
    "        graph.run(query,location=row['location'],month=i)"
   ]
  },
  {
   "cell_type": "markdown",
   "metadata": {},
   "source": [
    "---"
   ]
  },
  {
   "cell_type": "markdown",
   "metadata": {},
   "source": [
    "# Run Script for Top Place"
   ]
  },
  {
   "cell_type": "code",
   "execution_count": 48,
   "metadata": {
    "collapsed": true
   },
   "outputs": [],
   "source": [
    "import py2neo\n",
    "from py2neo import Graph, Node, Relationship\n",
    "\n",
    "graph=Graph(\"localhost\")\n",
    "\n",
    "query=\"\"\"\n",
    "match(res:Restaurant)-[:IN_DIVISION]->(area:Division),(res:Restaurant)<-[:ABOUT]-(r:Review)\n",
    "where 2013<=r.year and 2018>=r.year and area.e_name={location}\n",
    "with area,res,count(r) as reviewCount\n",
    "with area,res,reviewCount order by reviewCount desc limit 5\n",
    "match (res)-[:IN_DIVISION]->(area),(res)<-[:ABOUT]-(r:Review)\n",
    "where 2013<=r.year and 2018>=r.year\n",
    "with area,res,avg(r.SDRate) as avg\n",
    "merge (res)<-[:TOP_PLACE{top_place:avg}]-(area)\n",
    "\"\"\"\n",
    "a=graph.data(\"Match (n:Division) return n.e_name as location\")\n",
    "\n",
    "for row in a:\n",
    "    for i in range(1,13):\n",
    "        graph.run(query,location=row['location'])"
   ]
  },
  {
   "cell_type": "markdown",
   "metadata": {
    "collapsed": true
   },
   "source": [
    "---"
   ]
  },
  {
   "cell_type": "markdown",
   "metadata": {},
   "source": [
    "# Run Script create neighbor relationship"
   ]
  },
  {
   "cell_type": "code",
   "execution_count": 11,
   "metadata": {},
   "outputs": [
    {
     "data": {
      "text/plain": [
       "84984"
      ]
     },
     "execution_count": 11,
     "metadata": {},
     "output_type": "execute_result"
    }
   ],
   "source": [
    "import py2neo\n",
    "from py2neo import Graph, Node, Relationship\n",
    "\n",
    "graph=Graph(\"localhost\")\n",
    "\n",
    "query=\"\"\"\n",
    "\tmatch (n:Restaurant) return n.shopId as shopId\n",
    "\"\"\"\n",
    "restaurant=graph.data(query)\n",
    "restaurant[0]['shopId']"
   ]
  },
  {
   "cell_type": "code",
   "execution_count": 12,
   "metadata": {
    "collapsed": true
   },
   "outputs": [],
   "source": [
    "for row in restaurant:\n",
    "\tquery1=\"\"\"\n",
    "\t\tMatch (n1:Restaurant)where n1.shopId={shopId}\n",
    "        with (n1)\n",
    "        match (n1)-[rel:RELATE]->(n2:Restaurant)\n",
    "        with n1,n2,rel order by rel.common_au desc limit 10\n",
    "        merge (n1)-[:NEIGHBOR{common_au:rel.common_au}]->(n2)\n",
    "\t\"\"\"\n",
    "\tgraph.run(query,shopId=row['shopId'])"
   ]
  },
  {
   "cell_type": "code",
   "execution_count": null,
   "metadata": {
    "collapsed": true
   },
   "outputs": [],
   "source": []
  }
 ],
 "metadata": {
  "kernelspec": {
   "display_name": "Python 3",
   "language": "python",
   "name": "python3"
  },
  "language_info": {
   "codemirror_mode": {
    "name": "ipython",
    "version": 3
   },
   "file_extension": ".py",
   "mimetype": "text/x-python",
   "name": "python",
   "nbconvert_exporter": "python",
   "pygments_lexer": "ipython3",
   "version": "3.6.3"
  }
 },
 "nbformat": 4,
 "nbformat_minor": 2
}
