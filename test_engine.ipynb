{
 "cells": [
  {
   "cell_type": "markdown",
   "metadata": {},
   "source": [
    "# Restaurant near you"
   ]
  },
  {
   "cell_type": "code",
   "execution_count": null,
   "metadata": {
    "collapsed": true
   },
   "outputs": [],
   "source": [
    "import py2neo\n",
    "from py2neo import Graph, Node, Relationship\n",
    "import requests\n",
    "import json\n",
    "\n",
    "#open Graph database\n",
    "graph=Graph(\"localhost\")  #depend on your authorization choice\n",
    "\n",
    "\n",
    "#send url to get your current location #can use better method to get the division automatically as well\n",
    "send_url = 'http://freegeoip.net/json'\n",
    "r = requests.get(send_url)\n",
    "j = json.loads(r.text)\n",
    "lati = j['latitude']\n",
    "longi = j['longitude']\n",
    "\n",
    "#query for the match your location with the restaurant\n",
    "query='''\n",
    "WITH point({latitude:{lat},longitude:{lon}}) AS mapcenter\n",
    "   MATCH (a:Restaurant)-[:IN_DIVISION]->(b:Division{e_name:{division}}) \n",
    "   WITH a, distance (point({latitude: a.latitude, longitude: a.longitude}), mapcenter) AS distance \n",
    "     //near you but we can just do the limit so that only shows\n",
    "   RETURN a.shopId, distance\n",
    "   ORDER BY distance LIMIT 1000\n",
    "'''\n",
    "lat=24.8229533748\n",
    "lon=121.771853579\n",
    "division=\"Jiaoxi Township\"\n",
    "graph.run(query,lat=lati,lon=longi,division=division).data()"
   ]
  },
  {
   "cell_type": "markdown",
   "metadata": {},
   "source": [
    "# restaurant by month, most review with SDRate greater than 3"
   ]
  },
  {
   "cell_type": "code",
   "execution_count": 2,
   "metadata": {},
   "outputs": [
    {
     "data": {
      "text/plain": [
       "[{'count': 4, 'n.shopId': 86266},\n",
       " {'count': 2, 'n.shopId': 1017400},\n",
       " {'count': 1, 'n.shopId': 38366},\n",
       " {'count': 1, 'n.shopId': 35898},\n",
       " {'count': 1, 'n.shopId': 37661},\n",
       " {'count': 1, 'n.shopId': 956260},\n",
       " {'count': 1, 'n.shopId': 54127}]"
      ]
     },
     "execution_count": 2,
     "metadata": {},
     "output_type": "execute_result"
    }
   ],
   "source": [
    "import py2neo\n",
    "from py2neo import Graph, Node, Relationship\n",
    "\n",
    "#open Graph database\n",
    "graph=Graph(\"localhost\")  #depend on your authorization choice\n",
    "\n",
    "\n",
    "#recommendation for restaurant by month: ranking the the restaurant by their review rating: most high reviews of the month\n",
    "query='''\n",
    "match (d:Division{e_name:{division}})-[:IN_MONTH]->(m:Month{month:{month}})\n",
    "match\t(m)<-[:WRITTEN_IN]-(r:Review)\n",
    "match   (r)-[:ABOUT]->(n:Restaurant) where r.SDRate>3\n",
    "return n.shopId, count(r) as count order by count desc\n",
    "'''\n",
    "month=1\n",
    "division=\"Jiaoxi Township\"\n",
    "graph.run(query,month=month,division=division).data()"
   ]
  },
  {
   "cell_type": "markdown",
   "metadata": {},
   "source": [
    "# Restaurant by month, most review with SDRate> average"
   ]
  },
  {
   "cell_type": "code",
   "execution_count": 17,
   "metadata": {},
   "outputs": [
    {
     "data": {
      "text/plain": [
       "[{'count': 4, 'n.shopId': 86266},\n",
       " {'count': 2, 'n.shopId': 1017400},\n",
       " {'count': 1, 'n.shopId': 38366},\n",
       " {'count': 1, 'n.shopId': 35898},\n",
       " {'count': 1, 'n.shopId': 37661},\n",
       " {'count': 1, 'n.shopId': 956260},\n",
       " {'count': 1, 'n.shopId': 54127}]"
      ]
     },
     "execution_count": 17,
     "metadata": {},
     "output_type": "execute_result"
    }
   ],
   "source": [
    "import py2neo\n",
    "from py2neo import Graph, Node, Relationship\n",
    "\n",
    "#open Graph database\n",
    "graph=Graph(\"localhost\")  #depend on your authorization choice\n",
    "\n",
    "#input month, division, average\n",
    "month=1\n",
    "division=\"Jiaoxi Township\"\n",
    "\n",
    "query='''\n",
    "match (d:Division{e_name:\"Jiaoxi Township\"})-[:IN_MONTH]->(m:Month{month:5}),\n",
    "\t(m)<-[:WRITTEN_IN]-(r:Review),\n",
    "    (r)-[:ABOUT]->(n:Restaurant)\n",
    "return avg(r.SDRate) as avg\n",
    "'''\n",
    "avg_data=graph.run(query,month=month,division=division).data()\n",
    "\n",
    "average=avg_data[0]['avg']\n",
    "\n",
    "#recommendation for restaurant by month: ranking the the restaurant by their review rating: most review above average of month\n",
    "query='''\n",
    "match (d:Division{e_name:{division}})-[:IN_MONTH]->(m:Month{month:{month}})\n",
    "match\t(m)<-[:WRITTEN_IN]-(r:Review)\n",
    "match   (r)-[:ABOUT]->(n:Restaurant) where r.SDRate>{average}\n",
    "return n.shopId, count(r) as count order by count desc\n",
    "'''\n",
    "graph.run(query,month=month,division=division,average=average).data()"
   ]
  },
  {
   "cell_type": "code",
   "execution_count": null,
   "metadata": {
    "collapsed": true
   },
   "outputs": [],
   "source": []
  }
 ],
 "metadata": {
  "kernelspec": {
   "display_name": "Python 3",
   "language": "python",
   "name": "python3"
  },
  "language_info": {
   "codemirror_mode": {
    "name": "ipython",
    "version": 3
   },
   "file_extension": ".py",
   "mimetype": "text/x-python",
   "name": "python",
   "nbconvert_exporter": "python",
   "pygments_lexer": "ipython3",
   "version": "3.6.3"
  }
 },
 "nbformat": 4,
 "nbformat_minor": 2
}
