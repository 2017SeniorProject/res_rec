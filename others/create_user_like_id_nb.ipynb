{
 "cells": [
  {
   "cell_type": "code",
   "execution_count": null,
   "metadata": {},
   "outputs": [],
   "source": []
  },
  {
   "cell_type": "raw",
   "metadata": {},
   "source": [
    "import random\n",
    "for y in range(1,11):\n",
    "    for x in range(random.randint(1,5)):\n",
    "            print(y,end='')\n",
    "            print(':',end='')\n",
    "            print (random.randint(1,20))\n",
    "    print('\\n')"
   ]
  },
  {
   "cell_type": "code",
   "execution_count": 31,
   "metadata": {
    "collapsed": true
   },
   "outputs": [],
   "source": [
    "#how to read a csv file\n",
    "import pandas as pd\n",
    "import numpy as np"
   ]
  },
  {
   "cell_type": "code",
   "execution_count": 59,
   "metadata": {},
   "outputs": [],
   "source": [
    "df = pd.read_csv('sample_data/reviews.csv')\n",
    "review_id=df['review_id']\n",
    "reviewer_id=df['reviewer_id']"
   ]
  },
  {
   "cell_type": "raw",
   "metadata": {},
   "source": [
    "#for each review id, select random number of likes and print the reviewer_id that like the review\n",
    "for i in range(0,len(review_id)):\n",
    "    for k in range(random.randint(1,5)):\n",
    "        no=random.randint(1,20)\n",
    "        if(no!=reviewer_id[i]):\n",
    "            print(i+1,end='')\n",
    "            print(',',end='')\n",
    "            print (random.randint(1,20))"
   ]
  },
  {
   "cell_type": "raw",
   "metadata": {},
   "source": [
    "#write to file\n",
    "f = open('helloworld.txt','w')\n",
    "f.write('hello world')\n",
    "f.close()"
   ]
  },
  {
   "cell_type": "raw",
   "metadata": {},
   "source": [
    "#just file parameters of print to print to file\n",
    "f=open('reviewers_like.csv','a')\n",
    "for i in range(0,len(review_id)):\n",
    "    for k in range(random.randint(1,7)):\n",
    "        no=random.randint(1,20)\n",
    "        if(no!=reviewer_id[i]):\n",
    "            print(i+1,end='',file=f)\n",
    "            print(',',end='',file=f)\n",
    "            print(random.randint(1,20),file=f)\n",
    "f.close()"
   ]
  },
  {
   "cell_type": "code",
   "execution_count": null,
   "metadata": {
    "collapsed": true
   },
   "outputs": [],
   "source": []
  }
 ],
 "metadata": {
  "kernelspec": {
   "display_name": "Python 3",
   "language": "python",
   "name": "python3"
  },
  "language_info": {
   "codemirror_mode": {
    "name": "ipython",
    "version": 3
   },
   "file_extension": ".py",
   "mimetype": "text/x-python",
   "name": "python",
   "nbconvert_exporter": "python",
   "pygments_lexer": "ipython3",
   "version": "3.6.3"
  }
 },
 "nbformat": 4,
 "nbformat_minor": 2
}
