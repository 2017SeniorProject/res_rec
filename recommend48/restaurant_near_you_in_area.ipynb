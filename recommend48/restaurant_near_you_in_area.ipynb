{
 "cells": [
  {
   "cell_type": "code",
   "execution_count": null,
   "metadata": {
    "collapsed": true
   },
   "outputs": [],
   "source": [
    "import py2neo\n",
    "from py2neo import Graph, Node, Relationship\n",
    "import requests\n",
    "import json\n",
    "\n",
    "#open Graph database\n",
    "graph=Graph(\"localhost\")  #depend on your authorization choice\n",
    "\n",
    "\n",
    "#send url to get your current location \n",
    "#can use better method to get the division automatically as well, goole api, etc,...\n",
    "send_url = 'http://freegeoip.net/json'\n",
    "r = requests.get(send_url)\n",
    "j = json.loads(r.text)\n",
    "lati = j['latitude']\n",
    "longi = j['longitude']\n",
    "\n",
    "#query for the match your location with the restaurant\n",
    "query='''\n",
    "WITH point({latitude:{lat},longitude:{lon}}) AS mapcenter\n",
    "   MATCH (a:Restaurant)-[:IN_DIVISION]->(b:Division{e_name:{division}}) \n",
    "   WITH a, distance (point({latitude: a.latitude, longitude: a.longitude}), mapcenter) AS distance \n",
    "     //near you but we can just do the limit so that only shows\n",
    "   RETURN a.shopId, distance\n",
    "   ORDER BY distance LIMIT 1000\n",
    "'''\n",
    "lat=24.8229533748\n",
    "lon=121.771853579\n",
    "division=\"Jiaoxi Township\"\n",
    "graph.run(query,lat=lati,lon=longi,division=division).data()"
   ]
  }
 ],
 "metadata": {
  "kernelspec": {
   "display_name": "Python 3",
   "language": "python",
   "name": "python3"
  },
  "language_info": {
   "codemirror_mode": {
    "name": "ipython",
    "version": 3
   },
   "file_extension": ".py",
   "mimetype": "text/x-python",
   "name": "python",
   "nbconvert_exporter": "python",
   "pygments_lexer": "ipython3",
   "version": "3.6.3"
  }
 },
 "nbformat": 4,
 "nbformat_minor": 2
}
